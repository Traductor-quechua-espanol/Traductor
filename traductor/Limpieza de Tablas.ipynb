{
 "cells": [
  {
   "cell_type": "code",
   "id": "initial_id",
   "metadata": {
    "collapsed": true,
    "ExecuteTime": {
     "end_time": "2025-09-25T02:58:30.272697Z",
     "start_time": "2025-09-25T02:58:25.291801Z"
    }
   },
   "source": [
    "import pandas as pd\n",
    "import os, glob"
   ],
   "outputs": [],
   "execution_count": 1
  },
  {
   "metadata": {
    "ExecuteTime": {
     "end_time": "2025-09-25T03:03:18.512052Z",
     "start_time": "2025-09-25T03:03:18.506031Z"
    }
   },
   "cell_type": "code",
   "source": "csv_path = \"dataset1/quy/invalidated.csv\"",
   "id": "7cda45cffd2cb0ef",
   "outputs": [],
   "execution_count": 14
  },
  {
   "metadata": {
    "ExecuteTime": {
     "end_time": "2025-09-25T03:03:20.679720Z",
     "start_time": "2025-09-25T03:03:20.594634Z"
    }
   },
   "cell_type": "code",
   "source": [
    "df = pd.read_csv(csv_path)\n",
    "print(\"Columnas disponibles:\", df.columns.tolist())"
   ],
   "id": "d8a600fd4a8d9092",
   "outputs": [
    {
     "name": "stdout",
     "output_type": "stream",
     "text": [
      "Columnas disponibles: ['client_id;path;sentence_id;sentence;sentence_domain;up_votes;down_votes;age;gender;accents;variant;locale;segment']\n"
     ]
    }
   ],
   "execution_count": 15
  },
  {
   "metadata": {
    "ExecuteTime": {
     "end_time": "2025-09-25T03:03:22.234686Z",
     "start_time": "2025-09-25T03:03:22.219500Z"
    }
   },
   "cell_type": "code",
   "source": "df.head()",
   "id": "fd4892fd474a3b97",
   "outputs": [
    {
     "data": {
      "text/plain": [
       "                                                   client_id;path;sentence_id;sentence;sentence_domain;up_votes;down_votes;age;gender;accents;variant;locale;segment\n",
       "5a3bec1007029194504d9e7bc76def51b2a237ddfc2fe48...          huk ayllupi hinam kawsanku.;;1;2;;;;;quy;                                                               \n",
       "5a3bec1007029194504d9e7bc76def51b2a237ddfc2fe48...                                                NaN                                                               \n",
       "e35ba910cc685d2e585ccae22c401d602744fa7e6da8733...                                                NaN                                                               \n",
       "572f32cf7a739c283ecc1a738a092124693d43e47b6e2e0...                                                NaN                                                               \n",
       "572f32cf7a739c283ecc1a738a092124693d43e47b6e2e0...                                                NaN                                                               "
      ],
      "text/html": [
       "<div>\n",
       "<style scoped>\n",
       "    .dataframe tbody tr th:only-of-type {\n",
       "        vertical-align: middle;\n",
       "    }\n",
       "\n",
       "    .dataframe tbody tr th {\n",
       "        vertical-align: top;\n",
       "    }\n",
       "\n",
       "    .dataframe thead th {\n",
       "        text-align: right;\n",
       "    }\n",
       "</style>\n",
       "<table border=\"1\" class=\"dataframe\">\n",
       "  <thead>\n",
       "    <tr style=\"text-align: right;\">\n",
       "      <th></th>\n",
       "      <th>client_id;path;sentence_id;sentence;sentence_domain;up_votes;down_votes;age;gender;accents;variant;locale;segment</th>\n",
       "    </tr>\n",
       "  </thead>\n",
       "  <tbody>\n",
       "    <tr>\n",
       "      <th>5a3bec1007029194504d9e7bc76def51b2a237ddfc2fe48634c1e226697a7d2c8638b6eb3f23505c6bc10d103137615f958982d0e37f38343df6f39fb4be523b;common_voice_quy_37864014.mp3;2e783e50e92efa5e090276d30508ef150c4be2b06f05fe8b444f30e7cb3eb826;Chaypi kawsaq runakunam</th>\n",
       "      <td>huk ayllupi hinam kawsanku.;;1;2;;;;;quy;</td>\n",
       "    </tr>\n",
       "    <tr>\n",
       "      <th>5a3bec1007029194504d9e7bc76def51b2a237ddfc2fe48634c1e226697a7d2c8638b6eb3f23505c6bc10d103137615f958982d0e37f38343df6f39fb4be523b;common_voice_quy_37864015.mp3;3edb580beff6860f0316baea3b46802cf9a90dcc88b3f94087a56b15896c78a1;Wañuyqa kawsaypatukuyninmi.;;1;2;;;;;quy;</th>\n",
       "      <td>NaN</td>\n",
       "    </tr>\n",
       "    <tr>\n",
       "      <th>e35ba910cc685d2e585ccae22c401d602744fa7e6da87332ecf210e2ac2e501cfb8a614b2d26dcc42442b541aa6706de48ef5b91caea3a94a74c5c1ff292cd45;common_voice_quy_42033975.mp3;15114e2cd5a7f91cafc13014b465f6a89e442a66e0521f14491502233de68087;Tusurikunaypaq.;;0;2;fourties;;;;quy;</th>\n",
       "      <td>NaN</td>\n",
       "    </tr>\n",
       "    <tr>\n",
       "      <th>572f32cf7a739c283ecc1a738a092124693d43e47b6e2e0d25ac1757ff5e62dbc594e0d382c410eaf666b806abe79a0448239a0592ec33cf48c4c254a7f2b065;common_voice_quy_42116946.mp3;b2407ba0b2d5a54625e4679375dcc5b8d3076d567f1baa50bd037e2b00f1a35f;Kaykunam yuraykuna.;;0;2;twenties;female_feminine;Native x;;quy;</th>\n",
       "      <td>NaN</td>\n",
       "    </tr>\n",
       "    <tr>\n",
       "      <th>572f32cf7a739c283ecc1a738a092124693d43e47b6e2e0d25ac1757ff5e62dbc594e0d382c410eaf666b806abe79a0448239a0592ec33cf48c4c254a7f2b065;common_voice_quy_42117028.mp3;43f404ddd62878c7e3ef7b05a6087f9bbe7beaa4285024531cc3d6f56afb3cd0;Manasya tarimunichu qam hina uyachayuqta.;;0;2;twenties;female_feminine;Native x;;quy;</th>\n",
       "      <td>NaN</td>\n",
       "    </tr>\n",
       "  </tbody>\n",
       "</table>\n",
       "</div>"
      ]
     },
     "execution_count": 16,
     "metadata": {},
     "output_type": "execute_result"
    }
   ],
   "execution_count": 16
  },
  {
   "metadata": {},
   "cell_type": "code",
   "outputs": [],
   "execution_count": null,
   "source": "cols_to_drop = []",
   "id": "912d6a18fbd4e800"
  },
  {
   "metadata": {},
   "cell_type": "code",
   "outputs": [],
   "execution_count": null,
   "source": [
    "df_clean = df.drop(columns=[c for c in cols_to_drop if c in df.columns], errors=\"ignore\")\n",
    "\n",
    "print(\"Columnas después de limpiar:\", df_clean.columns.tolist())"
   ],
   "id": "79da141b62e3616f"
  },
  {
   "metadata": {},
   "cell_type": "code",
   "outputs": [],
   "execution_count": null,
   "source": "df_clean.head()",
   "id": "f42046926264e21b"
  },
  {
   "metadata": {},
   "cell_type": "code",
   "outputs": [],
   "execution_count": null,
   "source": [
    "out_path = os.path.splitext(csv_path)[0] + \"_clean.csv\"\n",
    "df_clean.to_csv(out_path, index=False)\n",
    "\n",
    "print(\"El CSV limpio fue guardado en:\", out_path)"
   ],
   "id": "8d8bbfc9ccc69176"
  }
 ],
 "metadata": {
  "kernelspec": {
   "display_name": "Python 3",
   "language": "python",
   "name": "python3"
  },
  "language_info": {
   "codemirror_mode": {
    "name": "ipython",
    "version": 2
   },
   "file_extension": ".py",
   "mimetype": "text/x-python",
   "name": "python",
   "nbconvert_exporter": "python",
   "pygments_lexer": "ipython2",
   "version": "2.7.6"
  }
 },
 "nbformat": 4,
 "nbformat_minor": 5
}
